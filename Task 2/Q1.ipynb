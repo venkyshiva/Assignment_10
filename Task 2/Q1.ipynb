{
 "cells": [
  {
   "cell_type": "code",
   "execution_count": 1,
   "metadata": {},
   "outputs": [
    {
     "data": {
      "text/plain": [
       "'Is gender independent of education level? A random sample of 395 people were surveyed\\nand each person was asked to report the highest education level they obtained. The data that\\nresulted from the survey is summarized in the following table:'"
      ]
     },
     "execution_count": 1,
     "metadata": {},
     "output_type": "execute_result"
    }
   ],
   "source": [
    "'''Is gender independent of education level? A random sample of 395 people were surveyed\n",
    "and each person was asked to report the highest education level they obtained. The data that\n",
    "resulted from the survey is summarized in the following table:'''"
   ]
  },
  {
   "cell_type": "code",
   "execution_count": 2,
   "metadata": {},
   "outputs": [],
   "source": [
    "x1=395"
   ]
  },
  {
   "cell_type": "code",
   "execution_count": 3,
   "metadata": {},
   "outputs": [
    {
     "data": {
      "text/plain": [
       "395"
      ]
     },
     "execution_count": 3,
     "metadata": {},
     "output_type": "execute_result"
    }
   ],
   "source": [
    "x1\n"
   ]
  },
  {
   "cell_type": "code",
   "execution_count": 4,
   "metadata": {},
   "outputs": [
    {
     "data": {
      "text/plain": [
       "'High School Bachelors Masters Ph.d. Total\\nFemale 60 54 46 41 201\\nMale 40 44 53 57 194\\nTotal 100 98 99 98 395'"
      ]
     },
     "execution_count": 4,
     "metadata": {},
     "output_type": "execute_result"
    }
   ],
   "source": [
    "'''High School Bachelors Masters Ph.d. Total\n",
    "Female 60 54 46 41 201\n",
    "Male 40 44 53 57 194\n",
    "Total 100 98 99 98 395'''"
   ]
  },
  {
   "cell_type": "code",
   "execution_count": 5,
   "metadata": {},
   "outputs": [
    {
     "data": {
      "text/plain": [
       "' Question: Are gender and education level dependent at 5% level of significance? In other\\nwords, given the data collected above, is there a relationship between the gender of an\\nindividual and the level of education that they have obtained?'"
      ]
     },
     "execution_count": 5,
     "metadata": {},
     "output_type": "execute_result"
    }
   ],
   "source": [
    "''' Question: Are gender and education level dependent at 5% level of significance? In other\n",
    "words, given the data collected above, is there a relationship between the gender of an\n",
    "individual and the level of education that they have obtained?'''"
   ]
  },
  {
   "cell_type": "code",
   "execution_count": 6,
   "metadata": {},
   "outputs": [
    {
     "data": {
      "text/plain": [
       "'Chi-Square Test Statistic\\nχ2=∑(O−E)2/E\\nwhere O represents the observed frequency. E is the expected frequency under the null hypothesis and computed by:\\n \\nE=row total×column totalsample size\\nWe will compare the value of the test statistic to the critical value of χ2α with degree of freedom = (r - 1) (c - 1), and reject the null hypothesis if χ2>χ2α.'"
      ]
     },
     "execution_count": 6,
     "metadata": {},
     "output_type": "execute_result"
    }
   ],
   "source": [
    "'''Chi-Square Test Statistic\n",
    "χ2=∑(O−E)2/E\n",
    "where O represents the observed frequency. E is the expected frequency under the null hypothesis and computed by:\n",
    " \n",
    "E=row total×column totalsample size\n",
    "We will compare the value of the test statistic to the critical value of χ2α with degree of freedom = (r - 1) (c - 1), \n",
    "and reject the null hypothesis if χ2>χ2α.'''"
   ]
  },
  {
   "cell_type": "code",
   "execution_count": 8,
   "metadata": {},
   "outputs": [
    {
     "ename": "SyntaxError",
     "evalue": "invalid character in identifier (<ipython-input-8-bf08f75e096e>, line 2)",
     "output_type": "error",
     "traceback": [
      "\u001b[1;36m  File \u001b[1;32m\"<ipython-input-8-bf08f75e096e>\"\u001b[1;36m, line \u001b[1;32m2\u001b[0m\n\u001b[1;33m    χ2=(60−50.886)250.886+(57−48.132)248.132=8.006\u001b[0m\n\u001b[1;37m            ^\u001b[0m\n\u001b[1;31mSyntaxError\u001b[0m\u001b[1;31m:\u001b[0m invalid character in identifier\n"
     ]
    }
   ],
   "source": [
    "#So, working this out, \n",
    "χ2=(60−50.886)250.886+(57−48.132)248.132=8.006"
   ]
  },
  {
   "cell_type": "code",
   "execution_count": 9,
   "metadata": {},
   "outputs": [
    {
     "name": "stdout",
     "output_type": "stream",
     "text": [
      "The critical value of χ2 with 3 degree of freedom is 7.815. Since 8.006 > 7.815, therefore we reject the null hypothesis and conclude that the education level depends on gender at a 5% level of significance.\n"
     ]
    }
   ],
   "source": [
    "print(\"The critical value of χ2 with 3 degree of freedom is 7.815. Since 8.006 > 7.815, therefore we reject the null hypothesis and conclude that the education level depends on gender at a 5% level of significance.\")"
   ]
  },
  {
   "cell_type": "code",
   "execution_count": null,
   "metadata": {},
   "outputs": [],
   "source": []
  }
 ],
 "metadata": {
  "kernelspec": {
   "display_name": "Python 3",
   "language": "python",
   "name": "python3"
  },
  "language_info": {
   "codemirror_mode": {
    "name": "ipython",
    "version": 3
   },
   "file_extension": ".py",
   "mimetype": "text/x-python",
   "name": "python",
   "nbconvert_exporter": "python",
   "pygments_lexer": "ipython3",
   "version": "3.7.0"
  }
 },
 "nbformat": 4,
 "nbformat_minor": 2
}
