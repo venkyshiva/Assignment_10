{
 "cells": [
  {
   "cell_type": "code",
   "execution_count": 1,
   "metadata": {},
   "outputs": [
    {
     "data": {
      "text/plain": [
       "'Calculate F Test for given 10, 20, 30, 40, 50 and 5,10,15, 20, 25.'"
      ]
     },
     "execution_count": 1,
     "metadata": {},
     "output_type": "execute_result"
    }
   ],
   "source": [
    "'''Calculate F Test for given 10, 20, 30, 40, 50 and 5,10,15, 20, 25.'''"
   ]
  },
  {
   "cell_type": "code",
   "execution_count": 2,
   "metadata": {},
   "outputs": [
    {
     "data": {
      "text/plain": [
       "' For 10, 20, 30, 40, 50:'"
      ]
     },
     "execution_count": 2,
     "metadata": {},
     "output_type": "execute_result"
    }
   ],
   "source": [
    "''' For 10, 20, 30, 40, 50:'''"
   ]
  },
  {
   "cell_type": "code",
   "execution_count": 3,
   "metadata": {},
   "outputs": [],
   "source": [
    "f1=[10,20,30,40,50]\n",
    "f2=[5,10,15,20,25]"
   ]
  },
  {
   "cell_type": "code",
   "execution_count": 4,
   "metadata": {},
   "outputs": [
    {
     "data": {
      "text/plain": [
       "[10, 20, 30, 40, 50, 5, 10, 15, 20, 25]"
      ]
     },
     "execution_count": 4,
     "metadata": {},
     "output_type": "execute_result"
    }
   ],
   "source": [
    "f1+f2"
   ]
  },
  {
   "cell_type": "code",
   "execution_count": 5,
   "metadata": {},
   "outputs": [],
   "source": [
    "f1=[10+20+30+40+50]\n",
    "f2=[5+10+15+20+25]"
   ]
  },
  {
   "cell_type": "code",
   "execution_count": 6,
   "metadata": {},
   "outputs": [
    {
     "data": {
      "text/plain": [
       "[150]"
      ]
     },
     "execution_count": 6,
     "metadata": {},
     "output_type": "execute_result"
    }
   ],
   "source": [
    "f1"
   ]
  },
  {
   "cell_type": "code",
   "execution_count": 7,
   "metadata": {},
   "outputs": [
    {
     "data": {
      "text/plain": [
       "[75]"
      ]
     },
     "execution_count": 7,
     "metadata": {},
     "output_type": "execute_result"
    }
   ],
   "source": [
    "f2"
   ]
  },
  {
   "cell_type": "code",
   "execution_count": 9,
   "metadata": {},
   "outputs": [
    {
     "data": {
      "text/plain": [
       "30.0"
      ]
     },
     "execution_count": 9,
     "metadata": {},
     "output_type": "execute_result"
    }
   ],
   "source": [
    "150/5"
   ]
  },
  {
   "cell_type": "code",
   "execution_count": 10,
   "metadata": {},
   "outputs": [
    {
     "data": {
      "text/plain": [
       "15.0"
      ]
     },
     "execution_count": 10,
     "metadata": {},
     "output_type": "execute_result"
    }
   ],
   "source": [
    "75/5"
   ]
  },
  {
   "cell_type": "code",
   "execution_count": 11,
   "metadata": {},
   "outputs": [],
   "source": [
    "#Calculate Variance of first set "
   ]
  },
  {
   "cell_type": "code",
   "execution_count": 13,
   "metadata": {},
   "outputs": [
    {
     "ename": "SyntaxError",
     "evalue": "invalid syntax (<ipython-input-13-6b008321b50e>, line 1)",
     "output_type": "error",
     "traceback": [
      "\u001b[1;36m  File \u001b[1;32m\"<ipython-input-13-6b008321b50e>\"\u001b[1;36m, line \u001b[1;32m1\u001b[0m\n\u001b[1;33m    Total Inputs (N) =(10,20,30,40,50)\u001b[0m\n\u001b[1;37m               ^\u001b[0m\n\u001b[1;31mSyntaxError\u001b[0m\u001b[1;31m:\u001b[0m invalid syntax\n"
     ]
    }
   ],
   "source": [
    "Total Inputs (N) =(10,20,30,40,50) \n",
    "Total Inputs (N)=5 \n",
    "Mean (xm)= (x1+x1+x2...xn)/N \n",
    "Mean (xm)= 150/5 \n",
    "Means(xm)= 30 \n",
    "SD=sqrt(1/(N-1)*((x1-xm)2+(x2-xm)2+(xn-xm)2)) \n",
    "=sqrt(1/(5-1)((10-30)2+(20-30)2+(30-30)2+(40-30)2+(50-30)2)) \n",
    "=sqrt(1/4((-20)2+(-10)2+(0)2+(10)2+(20)2)) \n",
    "=sqrt(1/4((400)+(100)+(0)+(100)+(400))) \n",
    "=sqrt(250) \n",
    "=15.8114 \n",
    "Variance=SD2 \n",
    "Variance=15.81142 \n",
    "Variance=250 "
   ]
  },
  {
   "cell_type": "code",
   "execution_count": 14,
   "metadata": {},
   "outputs": [
    {
     "ename": "SyntaxError",
     "evalue": "invalid syntax (<ipython-input-14-3bf8b52a9b9a>, line 2)",
     "output_type": "error",
     "traceback": [
      "\u001b[1;36m  File \u001b[1;32m\"<ipython-input-14-3bf8b52a9b9a>\"\u001b[1;36m, line \u001b[1;32m2\u001b[0m\n\u001b[1;33m    For 5, 10,15,20,25:\u001b[0m\n\u001b[1;37m        ^\u001b[0m\n\u001b[1;31mSyntaxError\u001b[0m\u001b[1;31m:\u001b[0m invalid syntax\n"
     ]
    }
   ],
   "source": [
    "#Calculate Variance of second set \n",
    "For 5, 10,15,20,25: \n",
    "Total Inputs(N) =(5,10,15,20,25) \n",
    "Total Inputs(N)=5 \n",
    "Mean (xm)= (x1+x2+x3...xN)/N \n",
    "Mean (xm)= 75/5 \n",
    "Means (xm)= 15 \n",
    "SD=sqrt(1/(N-1)*((x1-xm)2+(x2-xm)2+..+(xn-xm)2)) \n",
    "=sqrt(1/(5-1)((5-15)2+(10-15)2+(15-15)2+(20-15)2+(25-15)2)) \n",
    "=sqrt(1/4((-10)2+(-5)2+(0)2+(5)2+(10)2)) \n",
    "=sqrt(1/4((100)+(25)+(0)+(25)+(100))) \n",
    "=sqrt(62.5) \n",
    "=7.9057 \n",
    "Variance=SD2 \n",
    "Variance=7.90572 \n",
    "Variance=62.5 "
   ]
  },
  {
   "cell_type": "code",
   "execution_count": 15,
   "metadata": {},
   "outputs": [
    {
     "ename": "SyntaxError",
     "evalue": "invalid syntax (<ipython-input-15-bb3d3020453e>, line 2)",
     "output_type": "error",
     "traceback": [
      "\u001b[1;36m  File \u001b[1;32m\"<ipython-input-15-bb3d3020453e>\"\u001b[1;36m, line \u001b[1;32m2\u001b[0m\n\u001b[1;33m    F Test = (variance of 10, 20,30,40,50) / (variance of 5, 10, 15, 20, 25)\u001b[0m\n\u001b[1;37m         ^\u001b[0m\n\u001b[1;31mSyntaxError\u001b[0m\u001b[1;31m:\u001b[0m invalid syntax\n"
     ]
    }
   ],
   "source": [
    "#To calculate F Test \n",
    "F Test = (variance of 10, 20,30,40,50) / (variance of 5, 10, 15, 20, 25) \n",
    "= 250/62.5 \n",
    "= 4. \n"
   ]
  },
  {
   "cell_type": "code",
   "execution_count": 16,
   "metadata": {},
   "outputs": [
    {
     "name": "stdout",
     "output_type": "stream",
     "text": [
      " The F Test Value is : 4\n"
     ]
    }
   ],
   "source": [
    "print(\" The F Test Value is : 4\")"
   ]
  },
  {
   "cell_type": "code",
   "execution_count": null,
   "metadata": {},
   "outputs": [],
   "source": []
  }
 ],
 "metadata": {
  "kernelspec": {
   "display_name": "Python 3",
   "language": "python",
   "name": "python3"
  },
  "language_info": {
   "codemirror_mode": {
    "name": "ipython",
    "version": 3
   },
   "file_extension": ".py",
   "mimetype": "text/x-python",
   "name": "python",
   "nbconvert_exporter": "python",
   "pygments_lexer": "ipython3",
   "version": "3.7.0"
  }
 },
 "nbformat": 4,
 "nbformat_minor": 2
}
