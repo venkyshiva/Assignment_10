{
 "cells": [
  {
   "cell_type": "code",
   "execution_count": 1,
   "metadata": {},
   "outputs": [
    {
     "data": {
      "text/plain": [
       "'3. You take the SAT and score 1100. The mean score for the SAT is 1026 and the standard\\ndeviation is 209. How well did you score on the test compared to the average test taker?'"
      ]
     },
     "execution_count": 1,
     "metadata": {},
     "output_type": "execute_result"
    }
   ],
   "source": [
    "'''3. You take the SAT and score 1100. The mean score for the SAT is 1026 and the standard\n",
    "deviation is 209. How well did you score on the test compared to the average test taker?'''"
   ]
  },
  {
   "cell_type": "code",
   "execution_count": 2,
   "metadata": {},
   "outputs": [
    {
     "data": {
      "text/plain": [
       "'standard deviation=209'"
      ]
     },
     "execution_count": 2,
     "metadata": {},
     "output_type": "execute_result"
    }
   ],
   "source": [
    "'''The score=1100'''\n",
    "'''the Mean score=1026'''\n",
    "'''standard deviation=209'''"
   ]
  },
  {
   "cell_type": "code",
   "execution_count": 3,
   "metadata": {},
   "outputs": [
    {
     "name": "stdout",
     "output_type": "stream",
     "text": [
      "Z Score :  0.35406698564593303\n",
      "My Score is in the range 817 - 1235  with a  zscore 0.35\n"
     ]
    }
   ],
   "source": [
    "x = 1100 #\n",
    "mu = 1026 # Population Mean\n",
    "sd = 209 #population standard deviation\n",
    "z = ( x - mu)/sd\n",
    "print(\"Z Score : \",z)\n",
    "#the above calculation shows that my score is 0.35 standard deviations above the mean\n",
    "print(\"My Score is in the range {} - {}  with a  zscore {:.2f}\".format(mu - sd,mu + sd,z))"
   ]
  },
  {
   "cell_type": "code",
   "execution_count": 4,
   "metadata": {},
   "outputs": [
    {
     "name": "stdout",
     "output_type": "stream",
     "text": [
      "the average test taker=35%\n"
     ]
    }
   ],
   "source": [
    "print(\"the average test taker=35%\")"
   ]
  },
  {
   "cell_type": "code",
   "execution_count": null,
   "metadata": {},
   "outputs": [],
   "source": []
  }
 ],
 "metadata": {
  "kernelspec": {
   "display_name": "Python 3",
   "language": "python",
   "name": "python3"
  },
  "language_info": {
   "codemirror_mode": {
    "name": "ipython",
    "version": 3
   },
   "file_extension": ".py",
   "mimetype": "text/x-python",
   "name": "python",
   "nbconvert_exporter": "python",
   "pygments_lexer": "ipython3",
   "version": "3.7.0"
  }
 },
 "nbformat": 4,
 "nbformat_minor": 2
}
